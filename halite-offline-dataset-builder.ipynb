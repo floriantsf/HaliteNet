{
 "cells": [
  {
   "cell_type": "code",
   "execution_count": 1,
   "id": "1a020eeb",
   "metadata": {
    "_cell_guid": "b1076dfc-b9ad-4769-8c92-a6c4dae69d19",
    "_uuid": "8f2839f25d086af736a60e9eeb907d3b93b6e0e5",
    "execution": {
     "iopub.execute_input": "2022-10-10T06:38:34.031686Z",
     "iopub.status.busy": "2022-10-10T06:38:34.030979Z",
     "iopub.status.idle": "2022-10-10T06:38:35.896844Z",
     "shell.execute_reply": "2022-10-10T06:38:35.895480Z"
    },
    "papermill": {
     "duration": 1.875826,
     "end_time": "2022-10-10T06:38:35.899893",
     "exception": false,
     "start_time": "2022-10-10T06:38:34.024067",
     "status": "completed"
    },
    "tags": []
   },
   "outputs": [],
   "source": [
    "import glob\n",
    "import json\n",
    "from tqdm.auto import tqdm\n",
    "import bz2\n",
    "import pickle\n",
    "import os\n",
    "import torch\n",
    "import gc"
   ]
  },
  {
   "cell_type": "code",
   "execution_count": 2,
   "id": "a99ecf47",
   "metadata": {
    "execution": {
     "iopub.execute_input": "2022-10-10T06:38:35.908060Z",
     "iopub.status.busy": "2022-10-10T06:38:35.907468Z",
     "iopub.status.idle": "2022-10-10T06:38:35.912348Z",
     "shell.execute_reply": "2022-10-10T06:38:35.911258Z"
    },
    "papermill": {
     "duration": 0.011487,
     "end_time": "2022-10-10T06:38:35.914690",
     "exception": false,
     "start_time": "2022-10-10T06:38:35.903203",
     "status": "completed"
    },
    "tags": []
   },
   "outputs": [],
   "source": [
    "path = \"../input/halite-iml-dataset/*[!_info].json\""
   ]
  },
  {
   "cell_type": "code",
   "execution_count": 3,
   "id": "12b98217",
   "metadata": {
    "execution": {
     "iopub.execute_input": "2022-10-10T06:38:35.922388Z",
     "iopub.status.busy": "2022-10-10T06:38:35.921964Z",
     "iopub.status.idle": "2022-10-10T06:38:37.554882Z",
     "shell.execute_reply": "2022-10-10T06:38:37.553799Z"
    },
    "papermill": {
     "duration": 1.639768,
     "end_time": "2022-10-10T06:38:37.557503",
     "exception": false,
     "start_time": "2022-10-10T06:38:35.917735",
     "status": "completed"
    },
    "tags": []
   },
   "outputs": [
    {
     "name": "stdout",
     "output_type": "stream",
     "text": [
      "4840\r\n"
     ]
    }
   ],
   "source": [
    "!ls ../input/halite-iml-dataset | wc -l"
   ]
  },
  {
   "cell_type": "code",
   "execution_count": 4,
   "id": "e91b0e4c",
   "metadata": {
    "execution": {
     "iopub.execute_input": "2022-10-10T06:38:37.566392Z",
     "iopub.status.busy": "2022-10-10T06:38:37.565431Z",
     "iopub.status.idle": "2022-10-10T06:38:37.663068Z",
     "shell.execute_reply": "2022-10-10T06:38:37.662143Z"
    },
    "papermill": {
     "duration": 0.1051,
     "end_time": "2022-10-10T06:38:37.665837",
     "exception": false,
     "start_time": "2022-10-10T06:38:37.560737",
     "status": "completed"
    },
    "tags": []
   },
   "outputs": [],
   "source": [
    "from kaggle_environments.envs.halite.helpers import *\n",
    "def get_observation(raw_obs, conf):\n",
    "    raw_obs['remainingOverageTime'] = 60\n",
    "    board = Board(raw_observation=raw_obs, \\\n",
    "                  raw_configuration=conf)\n",
    "\n",
    "    obs = torch.zeros((9,\\\n",
    "                       board.configuration.size,\\\n",
    "                       board.configuration.size))\n",
    "\n",
    "    current_player = board.current_player\n",
    "    opponents = board.opponents\n",
    "    \n",
    "    # player halite\n",
    "    obs[7] = current_player.halite/5000\n",
    "    obs[8] = opponents[0].halite/5000\n",
    "    \n",
    "    # Halite map\n",
    "    for c in board.cells:\n",
    "        obs[(0,)+tuple(c)] = board.cells[c].halite/1000\n",
    "\n",
    "    # Ships map\n",
    "    for s in current_player.ships:\n",
    "        obs[(1,)+tuple(s.position)] = 1\n",
    "    for i,o in enumerate(opponents):\n",
    "        for s in o.ships:\n",
    "            obs[(i+2,)+tuple(s.position)] = 1\n",
    "\n",
    "    # Ships halite map\n",
    "    for s in current_player.ships:\n",
    "        obs[(3,)+tuple(s.position)] = s.halite/1000\n",
    "    for i,o in enumerate(opponents):\n",
    "        for s in o.ships:\n",
    "            obs[(i+4,)+tuple(s.position)] = s.halite/1000\n",
    "\n",
    "    # Shipyard map\n",
    "    for s in current_player.shipyards:\n",
    "        obs[(5,)+tuple(s.position)] = 1\n",
    "    for i,o in enumerate(opponents):\n",
    "        for s in o.shipyards:\n",
    "            obs[(i+6,)+tuple(s.position)] = 1\n",
    "\n",
    "    return obs, board"
   ]
  },
  {
   "cell_type": "code",
   "execution_count": 5,
   "id": "3cf90fcb",
   "metadata": {
    "execution": {
     "iopub.execute_input": "2022-10-10T06:38:37.673587Z",
     "iopub.status.busy": "2022-10-10T06:38:37.673203Z",
     "iopub.status.idle": "2022-10-10T06:38:37.678308Z",
     "shell.execute_reply": "2022-10-10T06:38:37.677374Z"
    },
    "papermill": {
     "duration": 0.011476,
     "end_time": "2022-10-10T06:38:37.680528",
     "exception": false,
     "start_time": "2022-10-10T06:38:37.669052",
     "status": "completed"
    },
    "tags": []
   },
   "outputs": [],
   "source": [
    "inverseShipActions = {\n",
    "    'NORTH': 1,\n",
    "    'EAST': 2, # droite\n",
    "    'SOUTH': 3,\n",
    "    'WEST': 4, # gauche\n",
    "    'CONVERT': 5\n",
    "}"
   ]
  },
  {
   "cell_type": "code",
   "execution_count": 6,
   "id": "1be80dcd",
   "metadata": {
    "execution": {
     "iopub.execute_input": "2022-10-10T06:38:37.688145Z",
     "iopub.status.busy": "2022-10-10T06:38:37.687731Z",
     "iopub.status.idle": "2022-10-10T06:38:37.692521Z",
     "shell.execute_reply": "2022-10-10T06:38:37.691383Z"
    },
    "papermill": {
     "duration": 0.010993,
     "end_time": "2022-10-10T06:38:37.694639",
     "exception": false,
     "start_time": "2022-10-10T06:38:37.683646",
     "status": "completed"
    },
    "tags": []
   },
   "outputs": [],
   "source": [
    "MAX_STEP = 325"
   ]
  },
  {
   "cell_type": "code",
   "execution_count": 7,
   "id": "0f9fa2e4",
   "metadata": {
    "execution": {
     "iopub.execute_input": "2022-10-10T06:38:37.702646Z",
     "iopub.status.busy": "2022-10-10T06:38:37.702049Z",
     "iopub.status.idle": "2022-10-10T09:55:29.393414Z",
     "shell.execute_reply": "2022-10-10T09:55:29.392047Z"
    },
    "papermill": {
     "duration": 11811.699288,
     "end_time": "2022-10-10T09:55:29.397023",
     "exception": false,
     "start_time": "2022-10-10T06:38:37.697735",
     "status": "completed"
    },
    "tags": []
   },
   "outputs": [
    {
     "data": {
      "application/vnd.jupyter.widget-view+json": {
       "model_id": "8f3250a90fd247e89f9b85f9074cf4b7",
       "version_major": 2,
       "version_minor": 0
      },
      "text/plain": [
       "  0%|          | 0/4840 [00:00<?, ?it/s]"
      ]
     },
     "metadata": {},
     "output_type": "display_data"
    }
   ],
   "source": [
    "counter = 0\n",
    "for l,path_to_json in enumerate(tqdm(glob.glob(path))):\n",
    "    \"\"\"if l > 2000:\n",
    "        break\"\"\"\n",
    "    with open(path_to_json, 'r') as json_file:\n",
    "        data = json_file.read()\n",
    "        steps = json.loads(data)[\"steps\"]\n",
    "        conf = json.loads(data)[\"configuration\"]\n",
    "        \n",
    "        if len(steps)>75:\n",
    "            episode_x = torch.zeros((min(len(steps)-1,MAX_STEP)-75, 9, 21, 21))\n",
    "            episode_y = torch.zeros((min(len(steps)-1,MAX_STEP)-75, 2, 2, 21, 21))\n",
    "            for i in range(75, min(len(steps)-1,MAX_STEP)):#range(len(steps)-1):\n",
    "                # for the observation\n",
    "                episode_x[i-75], board = get_observation(steps[i][0]['observation'], conf)\n",
    "                # for the actions\n",
    "                # for the current player\n",
    "                for s in board.current_player.ships:\n",
    "                    real_action = 0\n",
    "                    if steps[i+1][0]['action'] is not None \\\n",
    "                        and s.id in steps[i+1][0]['action']:\n",
    "\n",
    "                        action = steps[i+1][0]['action'][s.id]\n",
    "                        real_action = inverseShipActions[action]\n",
    "\n",
    "                    episode_y[i-75, 0, 0, s.position.x, s.position.y] = real_action\n",
    "\n",
    "                for sy in board.current_player.shipyards:\n",
    "                    if steps[i+1][0]['action'] is not None \\\n",
    "                        and sy.id in steps[i+1][0]['action']:\n",
    "\n",
    "                        episode_y[i-75, 0, 1, sy.position.x, sy.position.y] = 1\n",
    "\n",
    "                # for the opponent\n",
    "                for j,o in enumerate(board.opponents):\n",
    "                    for s in o.ships:\n",
    "                        real_action = 0\n",
    "                        if steps[i+1][1]['action'] is not None \\\n",
    "                            and s.id in steps[i+1][1]['action']:\n",
    "                            action = steps[i+1][1]['action'][s.id]\n",
    "                            real_action = inverseShipActions[action]\n",
    "\n",
    "                        episode_y[i-75, 1, 0, s.position.x, s.position.y] = real_action\n",
    "\n",
    "                for j,o in enumerate(board.opponents):\n",
    "                    for sy in o.shipyards:\n",
    "                        if steps[i+1][1]['action'] is not None \\\n",
    "                            and sy.id in steps[i+1][1]['action']:\n",
    "\n",
    "                            episode_y[i-75, 1, 1, sy.position.x, sy.position.y] = 1\n",
    "            #torch.save(episode_x,f\"x_{counter}.pt\")\n",
    "            #torch.save(episode_y,f\"y_{counter}.pt\")\n",
    "            pickle.dump(bz2.compress(pickle.dumps(episode_x)),\\\n",
    "                        open(f\"x_{counter}.pt\",\"wb\"))\n",
    "            pickle.dump(bz2.compress(pickle.dumps(episode_y)),\\\n",
    "                        open(f\"y_{counter}.pt\",\"wb\"))\n",
    "            counter += 1"
   ]
  },
  {
   "cell_type": "code",
   "execution_count": 8,
   "id": "ca35c330",
   "metadata": {
    "execution": {
     "iopub.execute_input": "2022-10-10T09:55:29.407115Z",
     "iopub.status.busy": "2022-10-10T09:55:29.406381Z",
     "iopub.status.idle": "2022-10-10T09:55:29.412705Z",
     "shell.execute_reply": "2022-10-10T09:55:29.411331Z"
    },
    "papermill": {
     "duration": 0.014226,
     "end_time": "2022-10-10T09:55:29.415143",
     "exception": false,
     "start_time": "2022-10-10T09:55:29.400917",
     "status": "completed"
    },
    "tags": []
   },
   "outputs": [
    {
     "name": "stdout",
     "output_type": "stream",
     "text": [
      "ok\n"
     ]
    }
   ],
   "source": [
    "print(\"ok\")"
   ]
  }
 ],
 "metadata": {
  "kernelspec": {
   "display_name": "Python 3",
   "language": "python",
   "name": "python3"
  },
  "language_info": {
   "codemirror_mode": {
    "name": "ipython",
    "version": 3
   },
   "file_extension": ".py",
   "mimetype": "text/x-python",
   "name": "python",
   "nbconvert_exporter": "python",
   "pygments_lexer": "ipython3",
   "version": "3.7.12"
  },
  "papermill": {
   "default_parameters": {},
   "duration": 11825.776309,
   "end_time": "2022-10-10T09:55:30.469143",
   "environment_variables": {},
   "exception": null,
   "input_path": "__notebook__.ipynb",
   "output_path": "__notebook__.ipynb",
   "parameters": {},
   "start_time": "2022-10-10T06:38:24.692834",
   "version": "2.3.4"
  },
  "widgets": {
   "application/vnd.jupyter.widget-state+json": {
    "state": {
     "3c7869dc1a334ae0a28487f123520d53": {
      "model_module": "@jupyter-widgets/controls",
      "model_module_version": "1.5.0",
      "model_name": "FloatProgressModel",
      "state": {
       "_dom_classes": [],
       "_model_module": "@jupyter-widgets/controls",
       "_model_module_version": "1.5.0",
       "_model_name": "FloatProgressModel",
       "_view_count": null,
       "_view_module": "@jupyter-widgets/controls",
       "_view_module_version": "1.5.0",
       "_view_name": "ProgressView",
       "bar_style": "success",
       "description": "",
       "description_tooltip": null,
       "layout": "IPY_MODEL_c7f8b22f41cc4e0fbfc38806c40fb0c7",
       "max": 4840.0,
       "min": 0.0,
       "orientation": "horizontal",
       "style": "IPY_MODEL_3f6ed03aec324f69a77f75a6ea13360c",
       "value": 4840.0
      }
     },
     "3f6ed03aec324f69a77f75a6ea13360c": {
      "model_module": "@jupyter-widgets/controls",
      "model_module_version": "1.5.0",
      "model_name": "ProgressStyleModel",
      "state": {
       "_model_module": "@jupyter-widgets/controls",
       "_model_module_version": "1.5.0",
       "_model_name": "ProgressStyleModel",
       "_view_count": null,
       "_view_module": "@jupyter-widgets/base",
       "_view_module_version": "1.2.0",
       "_view_name": "StyleView",
       "bar_color": null,
       "description_width": ""
      }
     },
     "7c5d04fff4774c8c8570ab494809d010": {
      "model_module": "@jupyter-widgets/base",
      "model_module_version": "1.2.0",
      "model_name": "LayoutModel",
      "state": {
       "_model_module": "@jupyter-widgets/base",
       "_model_module_version": "1.2.0",
       "_model_name": "LayoutModel",
       "_view_count": null,
       "_view_module": "@jupyter-widgets/base",
       "_view_module_version": "1.2.0",
       "_view_name": "LayoutView",
       "align_content": null,
       "align_items": null,
       "align_self": null,
       "border": null,
       "bottom": null,
       "display": null,
       "flex": null,
       "flex_flow": null,
       "grid_area": null,
       "grid_auto_columns": null,
       "grid_auto_flow": null,
       "grid_auto_rows": null,
       "grid_column": null,
       "grid_gap": null,
       "grid_row": null,
       "grid_template_areas": null,
       "grid_template_columns": null,
       "grid_template_rows": null,
       "height": null,
       "justify_content": null,
       "justify_items": null,
       "left": null,
       "margin": null,
       "max_height": null,
       "max_width": null,
       "min_height": null,
       "min_width": null,
       "object_fit": null,
       "object_position": null,
       "order": null,
       "overflow": null,
       "overflow_x": null,
       "overflow_y": null,
       "padding": null,
       "right": null,
       "top": null,
       "visibility": null,
       "width": null
      }
     },
     "7d89e94f14694205aaa9accd1f24a7dd": {
      "model_module": "@jupyter-widgets/controls",
      "model_module_version": "1.5.0",
      "model_name": "HTMLModel",
      "state": {
       "_dom_classes": [],
       "_model_module": "@jupyter-widgets/controls",
       "_model_module_version": "1.5.0",
       "_model_name": "HTMLModel",
       "_view_count": null,
       "_view_module": "@jupyter-widgets/controls",
       "_view_module_version": "1.5.0",
       "_view_name": "HTMLView",
       "description": "",
       "description_tooltip": null,
       "layout": "IPY_MODEL_99c8e79219da46eb8825cfa3be32b5be",
       "placeholder": "​",
       "style": "IPY_MODEL_b7a2182a186a4d07a2344dcd72dae7d7",
       "value": " 4840/4840 [3:16:51&lt;00:00,  2.37s/it]"
      }
     },
     "8f3250a90fd247e89f9b85f9074cf4b7": {
      "model_module": "@jupyter-widgets/controls",
      "model_module_version": "1.5.0",
      "model_name": "HBoxModel",
      "state": {
       "_dom_classes": [],
       "_model_module": "@jupyter-widgets/controls",
       "_model_module_version": "1.5.0",
       "_model_name": "HBoxModel",
       "_view_count": null,
       "_view_module": "@jupyter-widgets/controls",
       "_view_module_version": "1.5.0",
       "_view_name": "HBoxView",
       "box_style": "",
       "children": [
        "IPY_MODEL_ef9288846c0f4043b5c6971147efe81c",
        "IPY_MODEL_3c7869dc1a334ae0a28487f123520d53",
        "IPY_MODEL_7d89e94f14694205aaa9accd1f24a7dd"
       ],
       "layout": "IPY_MODEL_b5ba3fff389847d7b76c4ae5c44fc1e5"
      }
     },
     "903a952c1fde4574867f06fd18bf86bb": {
      "model_module": "@jupyter-widgets/controls",
      "model_module_version": "1.5.0",
      "model_name": "DescriptionStyleModel",
      "state": {
       "_model_module": "@jupyter-widgets/controls",
       "_model_module_version": "1.5.0",
       "_model_name": "DescriptionStyleModel",
       "_view_count": null,
       "_view_module": "@jupyter-widgets/base",
       "_view_module_version": "1.2.0",
       "_view_name": "StyleView",
       "description_width": ""
      }
     },
     "99c8e79219da46eb8825cfa3be32b5be": {
      "model_module": "@jupyter-widgets/base",
      "model_module_version": "1.2.0",
      "model_name": "LayoutModel",
      "state": {
       "_model_module": "@jupyter-widgets/base",
       "_model_module_version": "1.2.0",
       "_model_name": "LayoutModel",
       "_view_count": null,
       "_view_module": "@jupyter-widgets/base",
       "_view_module_version": "1.2.0",
       "_view_name": "LayoutView",
       "align_content": null,
       "align_items": null,
       "align_self": null,
       "border": null,
       "bottom": null,
       "display": null,
       "flex": null,
       "flex_flow": null,
       "grid_area": null,
       "grid_auto_columns": null,
       "grid_auto_flow": null,
       "grid_auto_rows": null,
       "grid_column": null,
       "grid_gap": null,
       "grid_row": null,
       "grid_template_areas": null,
       "grid_template_columns": null,
       "grid_template_rows": null,
       "height": null,
       "justify_content": null,
       "justify_items": null,
       "left": null,
       "margin": null,
       "max_height": null,
       "max_width": null,
       "min_height": null,
       "min_width": null,
       "object_fit": null,
       "object_position": null,
       "order": null,
       "overflow": null,
       "overflow_x": null,
       "overflow_y": null,
       "padding": null,
       "right": null,
       "top": null,
       "visibility": null,
       "width": null
      }
     },
     "b5ba3fff389847d7b76c4ae5c44fc1e5": {
      "model_module": "@jupyter-widgets/base",
      "model_module_version": "1.2.0",
      "model_name": "LayoutModel",
      "state": {
       "_model_module": "@jupyter-widgets/base",
       "_model_module_version": "1.2.0",
       "_model_name": "LayoutModel",
       "_view_count": null,
       "_view_module": "@jupyter-widgets/base",
       "_view_module_version": "1.2.0",
       "_view_name": "LayoutView",
       "align_content": null,
       "align_items": null,
       "align_self": null,
       "border": null,
       "bottom": null,
       "display": null,
       "flex": null,
       "flex_flow": null,
       "grid_area": null,
       "grid_auto_columns": null,
       "grid_auto_flow": null,
       "grid_auto_rows": null,
       "grid_column": null,
       "grid_gap": null,
       "grid_row": null,
       "grid_template_areas": null,
       "grid_template_columns": null,
       "grid_template_rows": null,
       "height": null,
       "justify_content": null,
       "justify_items": null,
       "left": null,
       "margin": null,
       "max_height": null,
       "max_width": null,
       "min_height": null,
       "min_width": null,
       "object_fit": null,
       "object_position": null,
       "order": null,
       "overflow": null,
       "overflow_x": null,
       "overflow_y": null,
       "padding": null,
       "right": null,
       "top": null,
       "visibility": null,
       "width": null
      }
     },
     "b7a2182a186a4d07a2344dcd72dae7d7": {
      "model_module": "@jupyter-widgets/controls",
      "model_module_version": "1.5.0",
      "model_name": "DescriptionStyleModel",
      "state": {
       "_model_module": "@jupyter-widgets/controls",
       "_model_module_version": "1.5.0",
       "_model_name": "DescriptionStyleModel",
       "_view_count": null,
       "_view_module": "@jupyter-widgets/base",
       "_view_module_version": "1.2.0",
       "_view_name": "StyleView",
       "description_width": ""
      }
     },
     "c7f8b22f41cc4e0fbfc38806c40fb0c7": {
      "model_module": "@jupyter-widgets/base",
      "model_module_version": "1.2.0",
      "model_name": "LayoutModel",
      "state": {
       "_model_module": "@jupyter-widgets/base",
       "_model_module_version": "1.2.0",
       "_model_name": "LayoutModel",
       "_view_count": null,
       "_view_module": "@jupyter-widgets/base",
       "_view_module_version": "1.2.0",
       "_view_name": "LayoutView",
       "align_content": null,
       "align_items": null,
       "align_self": null,
       "border": null,
       "bottom": null,
       "display": null,
       "flex": null,
       "flex_flow": null,
       "grid_area": null,
       "grid_auto_columns": null,
       "grid_auto_flow": null,
       "grid_auto_rows": null,
       "grid_column": null,
       "grid_gap": null,
       "grid_row": null,
       "grid_template_areas": null,
       "grid_template_columns": null,
       "grid_template_rows": null,
       "height": null,
       "justify_content": null,
       "justify_items": null,
       "left": null,
       "margin": null,
       "max_height": null,
       "max_width": null,
       "min_height": null,
       "min_width": null,
       "object_fit": null,
       "object_position": null,
       "order": null,
       "overflow": null,
       "overflow_x": null,
       "overflow_y": null,
       "padding": null,
       "right": null,
       "top": null,
       "visibility": null,
       "width": null
      }
     },
     "ef9288846c0f4043b5c6971147efe81c": {
      "model_module": "@jupyter-widgets/controls",
      "model_module_version": "1.5.0",
      "model_name": "HTMLModel",
      "state": {
       "_dom_classes": [],
       "_model_module": "@jupyter-widgets/controls",
       "_model_module_version": "1.5.0",
       "_model_name": "HTMLModel",
       "_view_count": null,
       "_view_module": "@jupyter-widgets/controls",
       "_view_module_version": "1.5.0",
       "_view_name": "HTMLView",
       "description": "",
       "description_tooltip": null,
       "layout": "IPY_MODEL_7c5d04fff4774c8c8570ab494809d010",
       "placeholder": "​",
       "style": "IPY_MODEL_903a952c1fde4574867f06fd18bf86bb",
       "value": "100%"
      }
     }
    },
    "version_major": 2,
    "version_minor": 0
   }
  }
 },
 "nbformat": 4,
 "nbformat_minor": 5
}
